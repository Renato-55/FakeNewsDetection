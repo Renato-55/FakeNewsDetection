{
  "cells": [
    {
      "cell_type": "markdown",
      "metadata": {
        "id": "view-in-github",
        "colab_type": "text"
      },
      "source": [
        "<a href=\"https://colab.research.google.com/github/Renato-55/FakeNewsDetection/blob/main/FakeNewsDetectionProj.ipynb\" target=\"_parent\"><img src=\"https://colab.research.google.com/assets/colab-badge.svg\" alt=\"Open In Colab\"/></a>"
      ]
    },
    {
      "cell_type": "markdown",
      "metadata": {
        "id": "E70KBoJVpaaE"
      },
      "source": [
        "# 1. Load and store the dataset in the FakeNewsDetectionData "
      ]
    },
    {
      "cell_type": "code",
      "execution_count": 9,
      "metadata": {
        "id": "Ugz8rmdx3icw"
      },
      "outputs": [],
      "source": [
        "# Can be necessary to download the latest version of matplot in order to use comands\n",
        "#such as ax.bar_label\n",
        "#!pip install seaborn --upgrade\n",
        "#!pip install matplotlib --upgrade\n",
        "\n",
        "#bert import\n",
        "#!pip install tensorflow_text\n",
        "#!pip install tf-models-official\n",
        "#!pip install pytorch-pretrained-bert pytorch-nlp"
      ]
    },
    {
      "cell_type": "code",
      "execution_count": 10,
      "metadata": {
        "id": "GTlZieIX06X-"
      },
      "outputs": [],
      "source": [
        "#API Token\n",
        "!echo '{\"username\":\"renatobarbosa0707\",\"key\":\"688080334f032395f65abb05549c245c\"}' > ~/.kaggle/kaggle.json\n",
        "!touch ~/.kaggle/kaggle.json\n",
        "!chmod 600 /root/.kaggle/kaggle.json"
      ]
    },
    {
      "cell_type": "code",
      "execution_count": 11,
      "metadata": {
        "colab": {
          "base_uri": "https://localhost:8080/"
        },
        "id": "ElDvxkWzT9sE",
        "outputId": "3497af3a-2474-435f-ae60-05168ec6bd06"
      },
      "outputs": [
        {
          "output_type": "stream",
          "name": "stdout",
          "text": [
            "Downloading fake-news.zip to /content\n",
            " 71% 33.0M/46.5M [00:00<00:00, 122MB/s] \n",
            "100% 46.5M/46.5M [00:00<00:00, 124MB/s]\n"
          ]
        }
      ],
      "source": [
        "#download fake news dataset from kaggle\n",
        "!kaggle competitions download fake-news"
      ]
    },
    {
      "cell_type": "code",
      "execution_count": 12,
      "metadata": {
        "id": "Z8KJwIXUeirK",
        "colab": {
          "base_uri": "https://localhost:8080/"
        },
        "outputId": "21c0c6d1-1d1f-4e9b-fd5a-ca54162f02e3"
      },
      "outputs": [
        {
          "output_type": "stream",
          "name": "stdout",
          "text": [
            "mkdir: cannot create directory ‘FakeNewsDetectionData’: File exists\n"
          ]
        }
      ],
      "source": [
        "#create new directory to store the dataset from kaggle\n",
        "!mkdir FakeNewsDetectionData"
      ]
    },
    {
      "cell_type": "code",
      "execution_count": 13,
      "metadata": {
        "colab": {
          "base_uri": "https://localhost:8080/"
        },
        "id": "Zu4W7EZuvamD",
        "outputId": "4584149a-23d8-40ba-b00a-4bf532129573"
      },
      "outputs": [
        {
          "output_type": "stream",
          "name": "stdout",
          "text": [
            "Archive:  /content/fake-news.zip\n",
            "  inflating: /content/FakeNewsDetectionData/submit.csv  \n",
            "  inflating: /content/FakeNewsDetectionData/test.csv  \n",
            "  inflating: /content/FakeNewsDetectionData/train.csv  \n"
          ]
        }
      ],
      "source": [
        "#unzip the data from source_path to target_path\n",
        "!unzip \"/content/fake-news.zip\" -d \"/content/FakeNewsDetectionData\""
      ]
    },
    {
      "cell_type": "code",
      "execution_count": 14,
      "metadata": {
        "colab": {
          "base_uri": "https://localhost:8080/"
        },
        "id": "7pqgBDv24An-",
        "outputId": "321d1599-b8f6-4683-960b-edef9bd2e953"
      },
      "outputs": [
        {
          "output_type": "stream",
          "name": "stdout",
          "text": [
            "Downloading tweet-sentiment-extraction.zip to /content\n",
            "\r  0% 0.00/1.39M [00:00<?, ?B/s]\n",
            "\r100% 1.39M/1.39M [00:00<00:00, 90.3MB/s]\n"
          ]
        }
      ],
      "source": [
        "#download emotions news dataset from kaggle\n",
        "!kaggle competitions download -c tweet-sentiment-extraction"
      ]
    },
    {
      "cell_type": "code",
      "execution_count": 15,
      "metadata": {
        "id": "waInF4g14AvK",
        "colab": {
          "base_uri": "https://localhost:8080/"
        },
        "outputId": "1e0eade2-f206-45f9-aca2-977383760c4e"
      },
      "outputs": [
        {
          "output_type": "stream",
          "name": "stdout",
          "text": [
            "mkdir: cannot create directory ‘EmotionData’: File exists\n"
          ]
        }
      ],
      "source": [
        "#create new directory to store the dataset from kaggle\n",
        "!mkdir EmotionData"
      ]
    },
    {
      "cell_type": "code",
      "execution_count": 16,
      "metadata": {
        "colab": {
          "base_uri": "https://localhost:8080/"
        },
        "id": "NGhucP9u4AzV",
        "outputId": "40a98ee8-2dae-4473-f3ac-7b2d47e56c9c"
      },
      "outputs": [
        {
          "output_type": "stream",
          "name": "stdout",
          "text": [
            "Archive:  /content/tweet-sentiment-extraction.zip\n",
            "  inflating: /content/EmotionData/sample_submission.csv  \n",
            "  inflating: /content/EmotionData/test.csv  \n",
            "  inflating: /content/EmotionData/train.csv  \n"
          ]
        }
      ],
      "source": [
        "#unzip the data from source_path to target_path\n",
        "!unzip \"/content/tweet-sentiment-extraction.zip\" -d \"/content/EmotionData\""
      ]
    },
    {
      "cell_type": "markdown",
      "metadata": {
        "id": "GmRglBsz49JZ"
      },
      "source": [
        ""
      ]
    },
    {
      "cell_type": "markdown",
      "metadata": {
        "id": "h60NpYPgpvaM"
      },
      "source": [
        "# 2. Load data from the folder and make a simple analysis on the data"
      ]
    },
    {
      "cell_type": "markdown",
      "metadata": {
        "id": "owOMPz4f4rl9"
      },
      "source": [
        "## Load and Data Prep (Data cleaning) on the fake news data set"
      ]
    },
    {
      "cell_type": "code",
      "execution_count": 17,
      "metadata": {
        "id": "AgjGU_k4yPvP"
      },
      "outputs": [],
      "source": [
        "import numpy as np\n",
        "import pandas as pd\n",
        "import seaborn as sns\n",
        "import matplotlib.pyplot as plt\n",
        "import tensorflow as tf\n",
        "\n",
        "#path to data\n",
        "path_fakenews = \"/content/FakeNewsDetectionData/\"\n",
        "\n",
        "#Load Data\n",
        "train_data_fakenews = pd.read_csv(path_fakenews + \"train.csv\")\n",
        "eval_data_x_fakenews = pd.read_csv(path_fakenews + \"test.csv\")\n",
        "eval_data_y_fakenews = pd.read_csv(path_fakenews + \"submit.csv\")"
      ]
    },
    {
      "cell_type": "code",
      "execution_count": 19,
      "metadata": {
        "colab": {
          "base_uri": "https://localhost:8080/",
          "height": 409
        },
        "id": "jRcTKbkk2j23",
        "outputId": "1382f6c7-2b4d-4ed0-db96-daeec56bd289"
      },
      "outputs": [
        {
          "output_type": "stream",
          "name": "stdout",
          "text": [
            "Null values: 2554\n",
            "\n",
            "The table id has 0\n",
            "The table title has 558\n",
            "The table author has 1957\n",
            "The table text has 39\n",
            "The table label has 0\n"
          ]
        },
        {
          "output_type": "display_data",
          "data": {
            "text/plain": [
              "<Figure size 432x288 with 1 Axes>"
            ],
            "image/png": "[encoded data removed]"
          },
          "metadata": {
            "needs_background": "light"
          }
        }
      ],
      "source": [
        "#data cleaning\n",
        "null_val = train_data_fakenews.isnull().sum().sum()\n",
        "\n",
        "if null_val == 0:\n",
        "  print(\"No null values\\n\")\n",
        "else:\n",
        "  print(f\"Null values: {null_val}\\n\")\n",
        "\n",
        "features = []\n",
        "null_values_table = []\n",
        "for x in train_data_fakenews:\n",
        "  features.append(x)\n",
        "  null_values_table.append(train_data_fakenews[x].isnull().sum())\n",
        "  print(f\"The table {x} has {train_data_fakenews[x].isnull().sum()}\")\n",
        " \n",
        "ax = sns.barplot(y=null_values_table,x=features)\n",
        "ax.bar_label(ax.containers[0])\n",
        "plt.title(\"Null values in columns datasets\")\n",
        "plt.show()"
      ]
    },
    {
      "cell_type": "code",
      "execution_count": 20,
      "metadata": {
        "colab": {
          "base_uri": "https://localhost:8080/",
          "height": 296
        },
        "id": "jx78HdAIrxBq",
        "outputId": "704cd4ec-89cd-47fb-a23f-dc8b5fb006bd"
      },
      "outputs": [
        {
          "output_type": "display_data",
          "data": {
            "text/plain": [
              "<Figure size 432x288 with 1 Axes>"
            ],
            "image/png": "[encoded data removed]"
          },
          "metadata": {
            "needs_background": "light"
          }
        }
      ],
      "source": [
        "y = []\n",
        "y.append(np.sum(train_data_fakenews['label'] == 1))\n",
        "y.append(np.sum(train_data_fakenews['label'] == 0))\n",
        "\n",
        "x = ['Yes','No']\n",
        "ax = sns.barplot(x=x,y=y)\n",
        "ax.bar_label(ax.containers[0])\n",
        "plt.title(\"Yes = Fake New, No = Not Fake New\\nAll data\")\n",
        "plt.show()"
      ]
    },
    {
      "cell_type": "code",
      "execution_count": 21,
      "metadata": {
        "colab": {
          "base_uri": "https://localhost:8080/",
          "height": 296
        },
        "id": "z_Id5KdmPXId",
        "outputId": "60f9b47a-f391-4508-ef02-927bde29a200"
      },
      "outputs": [
        {
          "output_type": "display_data",
          "data": {
            "text/plain": [
              "<Figure size 432x288 with 1 Axes>"
            ],
            "image/png": "[encoded data removed]"
          },
          "metadata": {
            "needs_background": "light"
          }
        }
      ],
      "source": [
        "test = train_data_fakenews['title'].isnull() \n",
        "test = test.loc[test == True]\n",
        "test = train_data_fakenews[train_data_fakenews.index.isin(test.index)]\n",
        "\n",
        "y = []\n",
        "y.append(np.sum(test['label'] == 1))\n",
        "y.append(np.sum(test['label'] == 0))\n",
        "\n",
        "x = ['Yes','No']\n",
        "ax = sns.barplot(x=x,y=y)\n",
        "ax.bar_label(ax.containers[0])\n",
        "plt.title(\"Yes = Fake New, No = Not Fake New\\nTitle is NULL\")\n",
        "plt.show()"
      ]
    },
    {
      "cell_type": "code",
      "execution_count": 22,
      "metadata": {
        "colab": {
          "base_uri": "https://localhost:8080/",
          "height": 296
        },
        "id": "K7ESxeY0Qsrp",
        "outputId": "53c8ca48-4134-40e0-bed4-ba3921f54291"
      },
      "outputs": [
        {
          "output_type": "display_data",
          "data": {
            "text/plain": [
              "<Figure size 432x288 with 1 Axes>"
            ],
            "image/png": "[encoded data removed]"
          },
          "metadata": {
            "needs_background": "light"
          }
        }
      ],
      "source": [
        "test = train_data_fakenews['author'].isnull() \n",
        "test = test.loc[test == True]\n",
        "test = train_data_fakenews[train_data_fakenews.index.isin(test.index)]\n",
        "\n",
        "y = []\n",
        "y.append(np.sum(test['label'] == 1))\n",
        "y.append(np.sum(test['label'] == 0))\n",
        "\n",
        "x = ['Yes','No']\n",
        "ax = sns.barplot(x=x,y=y)\n",
        "ax.bar_label(ax.containers[0])\n",
        "plt.title(\"Yes = Fake New, No = Not Fake New\\nAuthor is NULL\")\n",
        "plt.show()"
      ]
    },
    {
      "cell_type": "code",
      "execution_count": 23,
      "metadata": {
        "id": "e5Otu-dyRG1b"
      },
      "outputs": [],
      "source": [
        "#i will change the null values in Author and Title to be unknown\n",
        "#and i Will delete data where text is null\n",
        "train_data_fakenews.text.dropna(inplace=True)\n",
        "train_data_fakenews.fillna('UKN',inplace=True)"
      ]
    },
    {
      "cell_type": "code",
      "execution_count": 24,
      "metadata": {
        "colab": {
          "base_uri": "https://localhost:8080/",
          "height": 409
        },
        "id": "IcrAAp-fPNHc",
        "outputId": "577dc692-a1ad-481f-faf3-f8489d031df8"
      },
      "outputs": [
        {
          "output_type": "stream",
          "name": "stdout",
          "text": [
            "No null values\n",
            "\n",
            "The table id has 0\n",
            "The table title has 0\n",
            "The table author has 0\n",
            "The table text has 0\n",
            "The table label has 0\n"
          ]
        },
        {
          "output_type": "display_data",
          "data": {
            "text/plain": [
              "<Figure size 432x288 with 1 Axes>"
            ],
            "image/png": "[encoded data removed]"
          },
          "metadata": {
            "needs_background": "light"
          }
        }
      ],
      "source": [
        "#data cleaning\n",
        "null_val = train_data_fakenews.isnull().sum().sum()\n",
        "\n",
        "if null_val == 0:\n",
        "  print(\"No null values\\n\")\n",
        "else:\n",
        "  print(f\"Null values: {null_val}\\n\")\n",
        "\n",
        "features = []\n",
        "null_values_table = []\n",
        "for x in train_data_fakenews:\n",
        "  features.append(x)\n",
        "  null_values_table.append(train_data_fakenews[x].isnull().sum())\n",
        "  print(f\"The table {x} has {train_data_fakenews[x].isnull().sum()}\")\n",
        " \n",
        "sns.barplot(y=null_values_table,x=features)\n",
        "plt.title(\"Null values in columns datasets - After cleaning\")\n",
        "plt.show()"
      ]
    },
    {
      "cell_type": "code",
      "execution_count": 28,
      "metadata": {
        "colab": {
          "base_uri": "https://localhost:8080/"
        },
        "id": "LLpbcITyRxlz",
        "outputId": "fd813d30-a04f-4a4a-9666-9b0060752e4c"
      },
      "outputs": [
        {
          "output_type": "stream",
          "name": "stdout",
          "text": [
            "Shape of the training_data = (20800, 5)\n",
            "Shape of the training_data x values = (20800, 1)\n",
            "Shape of the training_data y values = (20800, 1)\n",
            "Shape of the training_data x values = (5200, 1)\n",
            "Shape of the training_data y values = (5200, 1)\n"
          ]
        }
      ],
      "source": [
        "#initializing\n",
        "train_data_fakenews_y = pd.DataFrame()\n",
        "train_data_fakenews_x = pd.DataFrame()\n",
        "\n",
        "val_data_fakenews_y = pd.DataFrame()\n",
        "val_data_fakenews_x = pd.DataFrame()\n",
        "\n",
        "#the last step is to join the 3 columns on the dataset\n",
        "print(f\"Shape of the training_data = {train_data_fakenews.shape}\")\n",
        "train_data_fakenews_y['label'] = train_data_fakenews['label']\n",
        "train_data_fakenews_x['text'] = train_data_fakenews['author'] + ', ' + train_data_fakenews['title'] + ', ' + train_data_fakenews['text']\n",
        "\n",
        "val_data_fakenews_y['label'] = eval_data_y_fakenews['label']\n",
        "val_data_fakenews_x['text'] = eval_data_x_fakenews['author'] + ', ' + eval_data_x_fakenews['title'] + ', ' + eval_data_x_fakenews['text']\n",
        "\n",
        "val_data_fakenews_x['text'] = val_data_fakenews_x['text'].astype('str')\n",
        "print(f\"Shape of the training_data x values = {train_data_fakenews_x.shape}\")\n",
        "print(f\"Shape of the training_data y values = {train_data_fakenews_y.shape}\")\n",
        "print(f\"Shape of the training_data x values = {val_data_fakenews_x.shape}\")\n",
        "print(f\"Shape of the training_data y values = {val_data_fakenews_y.shape}\")"
      ]
    },
    {
      "cell_type": "markdown",
      "metadata": {
        "id": "6lQzAcag5gX0"
      },
      "source": [
        "## Load and Data Prep (Data cleaning) on the emotions data set"
      ]
    },
    {
      "cell_type": "code",
      "execution_count": 29,
      "metadata": {
        "id": "U6BNuy1E5kk7"
      },
      "outputs": [],
      "source": [
        "import numpy as np\n",
        "import pandas as pd\n",
        "import seaborn as sns\n",
        "import matplotlib.pyplot as plt\n",
        "import tensorflow as tf\n",
        "\n",
        "#path to data\n",
        "path_emotions = \"/content/EmotionData/\"\n",
        "\n",
        "#Load Data\n",
        "train_data_emotions = pd.read_csv(path_emotions+ \"train.csv\")\n",
        "test_data_emotions =  pd.read_csv(path_emotions+ \"test.csv\")\n",
        "#eval_data_emotions =  pd.read_csv(path_emotions+ \"val.txt\", names=['Text', 'Emotion'], sep=';')"
      ]
    },
    {
      "cell_type": "markdown",
      "metadata": {
        "id": "iICBwyRV0sUg"
      },
      "source": [
        "### Remove null val and data analysis on train_data"
      ]
    },
    {
      "cell_type": "code",
      "execution_count": 30,
      "metadata": {
        "id": "Ww3Nx1Bd2pcm",
        "colab": {
          "base_uri": "https://localhost:8080/",
          "height": 0
        },
        "outputId": "637e7b07-6719-4769-cd0c-dec6ccd41a04"
      },
      "outputs": [
        {
          "output_type": "stream",
          "name": "stdout",
          "text": [
            "Null values: 2\n",
            "\n",
            "The table textID has 0\n",
            "The table text has 1\n",
            "The table selected_text has 1\n",
            "The table sentiment has 0\n"
          ]
        },
        {
          "output_type": "display_data",
          "data": {
            "text/plain": [
              "<Figure size 432x288 with 1 Axes>"
            ],
            "image/png": "[encoded data removed]"
          },
          "metadata": {
            "needs_background": "light"
          }
        },
        {
          "output_type": "display_data",
          "data": {
            "text/plain": [
              "<Figure size 432x288 with 1 Axes>"
            ],
            "image/png": "[encoded data removed]"
          },
          "metadata": {
            "needs_background": "light"
          }
        },
        {
          "output_type": "display_data",
          "data": {
            "text/plain": [
              "<Figure size 432x288 with 1 Axes>"
            ],
            "image/png": "[encoded data removed]"
          },
          "metadata": {
            "needs_background": "light"
          }
        }
      ],
      "source": [
        "#data cleaning on train_data\n",
        "null_val = train_data_emotions.isnull().sum().sum()\n",
        "\n",
        "if null_val == 0:\n",
        "  print(\"No null values\\n\")\n",
        "else:\n",
        "  print(f\"Null values: {null_val}\\n\")\n",
        "\n",
        "features = []\n",
        "null_values_table = []\n",
        "for x in train_data_emotions:\n",
        "  features.append(x)\n",
        "  null_values_table.append(train_data_emotions[x].isnull().sum())\n",
        "  print(f\"The table {x} has {train_data_emotions[x].isnull().sum()}\")\n",
        " \n",
        "ax = sns.barplot(y=null_values_table,x=features)\n",
        "ax.bar_label(ax.containers[0])\n",
        "plt.title(\"Null values in columns datasets\")\n",
        "plt.show()\n",
        "\n",
        "#check how many times each emotion appers on the dataset\n",
        "categorias_name = train_data_emotions.sentiment.unique()\n",
        "\n",
        "categorias_count = []\n",
        "for x in  categorias_name:\n",
        "  counts = train_data_emotions.loc[train_data_emotions.sentiment == x]\n",
        "  categorias_count.append(counts.shape[0])\n",
        "\n",
        "ax = sns.barplot(x=categorias_name,y=categorias_count,data=train_data_emotions)\n",
        "ax.bar_label(ax.containers[0])\n",
        "plt.title(\"Each Category Count\")\n",
        "plt.show()\n",
        "\n",
        "def swapLabelEmotion(str):\n",
        "  return 0 if str == 'neutral' else 1\n",
        "\n",
        "#Change the label to 0 and 1\n",
        "train_data_emotions['sentiment'] = train_data_emotions['sentiment'].map(lambda x:swapLabelEmotion(x))\n",
        "\n",
        "#check how many times each emotion appers on the dataset\n",
        "categorias_count = train_data_emotions.groupby('sentiment').sentiment.count()\n",
        "categorias_name = ['neutral','emotional']\n",
        "\n",
        "ax = sns.barplot(x=categorias_name,y=categorias_count,data=train_data_emotions)\n",
        "ax.bar_label(ax.containers[0])\n",
        "plt.title(\"Each Category Count\")\n",
        "plt.show()\n",
        "\n",
        "#i will drop the null value on the emotion dataset\n",
        "train_data_emotions.dropna(inplace=True)"
      ]
    },
    {
      "cell_type": "markdown",
      "metadata": {
        "id": "veVIaivw1HPa"
      },
      "source": [
        "### Remove null val and data analysis on test_data"
      ]
    },
    {
      "cell_type": "code",
      "execution_count": 31,
      "metadata": {
        "colab": {
          "base_uri": "https://localhost:8080/",
          "height": 0
        },
        "id": "Rr9TA4Zzz9D7",
        "outputId": "3288df65-1170-4731-8491-5bcba61a8ea1"
      },
      "outputs": [
        {
          "output_type": "stream",
          "name": "stdout",
          "text": [
            "No null values\n",
            "\n",
            "The table textID has 0\n",
            "The table text has 0\n",
            "The table sentiment has 0\n"
          ]
        },
        {
          "output_type": "display_data",
          "data": {
            "text/plain": [
              "<Figure size 432x288 with 1 Axes>"
            ],
            "image/png": "[encoded data removed]"
          },
          "metadata": {
            "needs_background": "light"
          }
        },
        {
          "output_type": "display_data",
          "data": {
            "text/plain": [
              "<Figure size 432x288 with 1 Axes>"
            ],
            "image/png": "[encoded data removed]"
          },
          "metadata": {
            "needs_background": "light"
          }
        },
        {
          "output_type": "display_data",
          "data": {
            "text/plain": [
              "<Figure size 432x288 with 1 Axes>"
            ],
            "image/png": "[encoded data removed]"
          },
          "metadata": {
            "needs_background": "light"
          }
        }
      ],
      "source": [
        "#data cleaning\n",
        "null_val = test_data_emotions.isnull().sum().sum()\n",
        "\n",
        "if null_val == 0:\n",
        "  print(\"No null values\\n\")\n",
        "else:\n",
        "  print(f\"Null values: {null_val}\\n\")\n",
        "\n",
        "features = []\n",
        "null_values_table = []\n",
        "for x in test_data_emotions:\n",
        "  features.append(x)\n",
        "  null_values_table.append(test_data_emotions[x].isnull().sum())\n",
        "  print(f\"The table {x} has {test_data_emotions[x].isnull().sum()}\")\n",
        " \n",
        "ax = sns.barplot(y=null_values_table,x=features)\n",
        "ax.bar_label(ax.containers[0])\n",
        "plt.title(\"Null values in columns datasets\")\n",
        "plt.show()\n",
        "\n",
        "#check how many times each emotion appers on the dataset\n",
        "categorias_name = test_data_emotions.sentiment.unique()\n",
        "\n",
        "categorias_count = []\n",
        "for x in  categorias_name:\n",
        "  counts = test_data_emotions.loc[test_data_emotions.sentiment == x]\n",
        "  categorias_count.append(counts.shape[0])\n",
        "\n",
        "ax = sns.barplot(x=categorias_name,y=categorias_count,data=test_data_emotions)\n",
        "ax.bar_label(ax.containers[0])\n",
        "plt.title(\"Each Category Count\")\n",
        "plt.show()\n",
        "\n",
        "def swapLabelEmotion(str):\n",
        "  return 0 if str == 'neutral' else 1\n",
        "\n",
        "#Change the label to 0 and 1\n",
        "test_data_emotions['sentiment'] = test_data_emotions['sentiment'].map(lambda x:swapLabelEmotion(x))\n",
        "\n",
        "#check how many times each emotion appers on the dataset\n",
        "categorias_count = test_data_emotions.groupby('sentiment').sentiment.count()\n",
        "categorias_name = ['neutral','emotional']\n",
        "\n",
        "ax = sns.barplot(x=categorias_name,y=categorias_count,data=test_data_emotions)\n",
        "ax.bar_label(ax.containers[0])\n",
        "plt.title(\"Each Category Count\")\n",
        "plt.show()\n",
        "\n",
        "#i will drop the null value on the emotion dataset\n",
        "test_data_emotions.dropna(inplace=True)"
      ]
    },
    {
      "cell_type": "markdown",
      "metadata": {
        "id": "hIXR6TXwp7Gt"
      },
      "source": [
        "# 3. Train the model whit the data provided"
      ]
    },
    {
      "cell_type": "markdown",
      "metadata": {
        "id": "sG6J1K1j4n8l"
      },
      "source": [
        "##   Bert Model to classify emotions - Data prep\n",
        "\n",
        "\n",
        "\n",
        "\n"
      ]
    },
    {
      "cell_type": "code",
      "execution_count": 33,
      "metadata": {
        "id": "l7efh1Hk6I0e"
      },
      "outputs": [],
      "source": [
        "import string\n",
        "#I need to clean out the data from text\n",
        "def removePunc(s):\n",
        "  return s.translate(str.maketrans('', '', string.punctuation))\n",
        "\n",
        "def removeWordsLessThan(sentence):\n",
        "  spilted_sentence = sentence.split()\n",
        "  new_str = []\n",
        "  for s in spilted_sentence:\n",
        "    if len(s) > 3:\n",
        "      new_str.append(s)\n",
        "\n",
        "  return \" \".join(new_str)\n",
        "\n",
        "################\n",
        "##  Emotions  ## \n",
        "################\n",
        "train_data_emotions['text'] = train_data_emotions['text'].map(lambda x:removeWordsLessThan(x))\n",
        "train_data_emotions['text'] = train_data_emotions['text'].map(lambda x:removePunc(x))\n",
        "\n",
        "test_data_emotions['text'] = test_data_emotions['text'].map(lambda x:removeWordsLessThan(x))\n",
        "test_data_emotions['text'] = test_data_emotions['text'].map(lambda x:removePunc(x))\n",
        "\n",
        "################\n",
        "## Fake News  ## \n",
        "################\n",
        "train_data_fakenews_x['text'] = train_data_fakenews_x['text'].map(lambda x:removeWordsLessThan(x))\n",
        "train_data_fakenews_x['text'] = train_data_fakenews_x['text'].map(lambda x:removePunc(x))\n",
        "\n",
        "val_data_fakenews_x['text'] = val_data_fakenews_x['text'].map(lambda x:removeWordsLessThan(x))\n",
        "val_data_fakenews_x['text'] = val_data_fakenews_x['text'].map(lambda x:removePunc(x))"
      ]
    },
    {
      "cell_type": "code",
      "source": [
        "for x in train_data_fakenews_x['text']:\n",
        "  print(x)\n",
        "  "
      ],
      "metadata": {
        "id": "KiHhBaY-79ik",
        "outputId": "a18606f3-601c-49df-92a8-5f96d9dbb622",
        "colab": {
          "base_uri": "https://localhost:8080/"
        }
      },
      "execution_count": 45,
      "outputs": [
        {
          "output_type": "stream",
          "name": "stderr",
          "text": [
            "IOPub data rate exceeded.\n",
            "The notebook server will temporarily stop sending output\n",
            "to the client in order to avoid crashing it.\n",
            "To change this limit, set the config variable\n",
            "`--NotebookApp.iopub_data_rate_limit`.\n",
            "\n",
            "Current values:\n",
            "NotebookApp.iopub_data_rate_limit=1000000.0 (bytes/sec)\n",
            "NotebookApp.rate_limit_window=3.0 (secs)\n",
            "\n"
          ]
        }
      ]
    },
    {
      "cell_type": "code",
      "execution_count": 34,
      "metadata": {
        "id": "kRjKIVRdV91B"
      },
      "outputs": [],
      "source": [
        "# BERT imports\n",
        "import torch\n",
        "from torch.utils.data import TensorDataset, DataLoader, RandomSampler, SequentialSampler\n",
        "from keras.preprocessing.sequence import pad_sequences\n",
        "from sklearn.model_selection import train_test_split\n",
        "from pytorch_pretrained_bert import BertTokenizer, BertConfig\n",
        "from pytorch_pretrained_bert import BertAdam, BertForSequenceClassification\n",
        "from tqdm import tqdm, trange\n",
        "import pandas as pd\n",
        "import io\n",
        "import numpy as np\n",
        "import matplotlib.pyplot as plt\n",
        "% matplotlib inline\n",
        "\n",
        "# specify GPU device\n",
        "device = torch.device(\"cuda\" if torch.cuda.is_available() else \"cpu\")\n",
        "n_gpu = torch.cuda.device_count()\n",
        "#torch.cuda.get_device_name(0)"
      ]
    },
    {
      "cell_type": "markdown",
      "metadata": {
        "id": "CFXA88bdUHa5"
      },
      "source": [
        "### Tokenizing the train_data_fakenews.text"
      ]
    },
    {
      "cell_type": "code",
      "execution_count": 35,
      "metadata": {
        "colab": {
          "base_uri": "https://localhost:8080/"
        },
        "id": "WEAHl3RqUHa6",
        "outputId": "36d5cfff-ab29-4bed-cfb6-3053ff247e38"
      },
      "outputs": [
        {
          "output_type": "stream",
          "name": "stdout",
          "text": [
            "[CLS] Darrell Lucus House Aide Didn’t Even Comey’s Letter Until Jason Chaffetz Tweeted House Aide Didn’t Even Comey’s Letter Until Jason Chaffetz Tweeted Darrell Lucus October 2016 Subscribe Jason Chaffetz stump American Fork Utah image courtesy Michael Jolley available under Creative CommonsBY license With apologies Keith Olbermann there doubt Worst Person World this week–FBI Director James Comey according House Democratic aide looks like also know secondworst person well turns that when Comey sent nowinfamous letter announcing that looking into emails that related Hillary Clinton’s email server ranking Democrats relevant committees didn’t hear about from Comey They found tweet from Republican committee chairmen know Comey notified Republican chairmen Democratic ranking members House Intelligence Judiciary Oversight committees that agency reviewing emails recently discovered order they contained classified information long after this letter went out Oversight Committee Chairman Jason Chaffetz political world ablaze with this tweet just informed The learned existence emails that appear pertinent investigation Case reopened Jason Chaffetz jasoninthehouse October 2016 course know that this case Comey actually saying that reviewing emails light unrelated case”–which know Anthony Weiner’s sexting with teenager apparently such little things facts didn’t matter Chaffetz Utah Republican already vowed initiate raft investigations Hillary wins–at least years’ worth possibly entire term’s worth them Apparently Chaffetz thought already doing work him–resulting tweet that briefly roiled nation before cooler heads realized dud according senior House Democratic aide misreading that letter have been least Chaffetz’ sins That aide told Shareblue that boss other Democrats didn’t even know about Comey’s letter time–and only found when they checked Twitter “Democratic Ranking Members relevant committees didn’t receive Comey’s letter until after Republican Chairmen fact Democratic Ranking Members didn’ receive until after Chairman Oversight Government Reform Committee Jason Chaffetz tweeted made public” let’s we’ve this right director tells Chaffetz other committee chairmen about major development potentially politically explosive investigation neither Chaffetz other colleagues courtesy their Democratic counterparts know about Instead according this aide made them find about Twitter There already been talk Daily that Comey himself provided advance notice this letter Chaffetz other Republicans giving them time turn spin machine That make good theater there nothing that even suggests this case After all there nothing that suggests that Comey anything other than grossly incompetent tonedeaf What does suggest however that Chaffetz acting that makes Burton Darrell Issa look like models responsibility bipartisanship didn’t even have decency notify ranking member Elijah Cummings about something this explosive that doesn’t trample basic standards fairness don’t know what does Granted it’s likely that Chaffetz will have answer this sits ridiculously Republican district anchored Provo Orem Cook Partisan Voting Index R25 gave Mitt Romney punishing percent vote 2012 Moreover Republican House leadership given full support Chaffetz’ planned fishing expedition that doesn’t mean can’t turn lights him After all textbook example what House become under Republican control also Second Worst Person World About Darrell Lucus Darrell 30something graduate University North Carolina considers himself journalist school attempt turn into member religious right college only succeeded turning into religious rights worst nightmarea charismatic Christian unapologetic liberal desire stand those have been scared into silence only increased when survived abusive threeyear marriage know Daily Christian Follow Twitter DarrellLucus connect with Facebook Click here Darrell Mello Yello Connect [SEP]\n"
          ]
        },
        {
          "output_type": "stream",
          "name": "stderr",
          "text": [
            "100%|██████████| 231508/231508 [00:00<00:00, 2363693.95B/s]\n"
          ]
        },
        {
          "output_type": "stream",
          "name": "stdout",
          "text": [
            "Tokenize the first sentence:\n",
            "['[CLS]', 'darrell', 'luc', '##us', 'house', 'aide', 'didn', '’', 't', 'even', 'come', '##y', '’', 's', 'letter', 'until', 'jason', 'cha', '##ffe', '##tz', 't', '##wee', '##ted', 'house', 'aide', 'didn', '’', 't', 'even', 'come', '##y', '’', 's', 'letter', 'until', 'jason', 'cha', '##ffe', '##tz', 't', '##wee', '##ted', 'darrell', 'luc', '##us', 'october', '2016', 'sub', '##scribe', 'jason', 'cha', '##ffe', '##tz', 'stump', 'american', 'fork', 'utah', 'image', 'courtesy', 'michael', 'jo', '##lley', 'available', 'under', 'creative', 'commons', '##by', 'license', 'with', 'apologies', 'keith', 'ol', '##berman', '##n', 'there', 'doubt', 'worst', 'person', 'world', 'this', 'week', '–', 'fbi', 'director', 'james', 'come', '##y', 'according', 'house', 'democratic', 'aide', 'looks', 'like', 'also', 'know', 'second', '##wo', '##rst', 'person', 'well', 'turns', 'that', 'when', 'come', '##y', 'sent', 'now', '##in', '##fa', '##mous', 'letter', 'announcing', 'that', 'looking', 'into', 'emails', 'that', 'related', 'hillary', 'clinton', '’', 's', 'email', 'server', 'ranking', 'democrats', 'relevant', 'committees', 'didn', '’', 't', 'hear', 'about', 'from', 'come', '##y', 'they', 'found', 't', '##wee', '##t', 'from', 'republican', 'committee', 'chair', '##men', 'know', 'come', '##y', 'notified', 'republican', 'chair', '##men', 'democratic', 'ranking', 'members', 'house', 'intelligence', 'judiciary', 'oversight', 'committees', 'that', 'agency', 'reviewing', 'emails', 'recently', 'discovered', 'order', 'they', 'contained', 'classified', 'information', 'long', 'after', 'this', 'letter', 'went', 'out', 'oversight', 'committee', 'chairman', 'jason', 'cha', '##ffe', '##tz', 'political', 'world', 'ab', '##laze', 'with', 'this', 't', '##wee', '##t', 'just', 'informed', 'the', 'learned', 'existence', 'emails', 'that', 'appear', 'per', '##tine', '##nt', 'investigation', 'case', 'reopened', 'jason', 'cha', '##ffe', '##tz', 'jason', '##int', '##he', '##house', 'october', '2016', 'course', 'know', 'that', 'this', 'case', 'come', '##y', 'actually', 'saying', 'that', 'reviewing', 'emails', 'light', 'unrelated', 'case', '”', '–', 'which', 'know', 'anthony', 'wei', '##ner', '’', 's', 'sex', '##ting', 'with', 'teenager', 'apparently', 'such', 'little', 'things', 'facts', 'didn', '’', 't', 'matter', 'cha', '##ffe', '##tz', 'utah', 'republican', 'already', 'vowed', 'initiate', 'raft', 'investigations', 'hillary', 'wins', '–', 'at', 'least', 'years', '’', 'worth', 'possibly', 'entire', 'term', '’', 's', 'worth', 'them', 'apparently', 'cha', '##ffe', '##tz', 'thought', 'already', 'doing', 'work', 'him', '–', 'resulting', 't', '##wee', '##t', 'that', 'briefly', 'roi', '##led', 'nation', 'before', 'cooler', 'heads', 'realized', 'du', '##d', 'according', 'senior', 'house', 'democratic', 'aide', 'mis', '##rea', '##ding', 'that', 'letter', 'have', 'been', 'least', 'cha', '##ffe', '##tz', '’', 'sins', 'that', 'aide', 'told', 'share', '##bl', '##ue', 'that', 'boss', 'other', 'democrats', 'didn', '’', 't', 'even', 'know', 'about', 'come', '##y', '’', 's', 'letter', 'time', '–', 'and', 'only', 'found', 'when', 'they', 'checked', 'twitter', '“', 'democratic', 'ranking', 'members', 'relevant', 'committees', 'didn', '’', 't', 'receive', 'come', '##y', '’', 's', 'letter', 'until', 'after', 'republican', 'chair', '##men', 'fact', 'democratic', 'ranking', 'members', 'didn', '’', 'receive', 'until', 'after', 'chairman', 'oversight', 'government', 'reform', 'committee', 'jason', 'cha', '##ffe', '##tz', 't', '##wee', '##ted', 'made', 'public', '”', 'let', '’', 's', 'we', '’', 've', 'this', 'right', 'director', 'tells', 'cha', '##ffe', '##tz', 'other', 'committee', 'chair', '##men', 'about', 'major', 'development', 'potentially', 'politically', 'explosive', 'investigation', 'neither', 'cha', '##ffe', '##tz', 'other', 'colleagues', 'courtesy', 'their', 'democratic', 'counterparts', 'know', 'about', 'instead', 'according', 'this', 'aide', 'made', 'them', 'find', 'about', 'twitter', 'there', 'already', 'been', 'talk', 'daily', 'that', 'come', '##y', 'himself', 'provided', 'advance', 'notice', 'this', 'letter', 'cha', '##ffe', '##tz', 'other', 'republicans', 'giving', 'them', 'time', 'turn', 'spin', 'machine', 'that', 'make', 'good', 'theater', 'there', 'nothing', 'that', 'even', 'suggests', 'this', 'case', 'after', 'all', 'there', 'nothing', 'that', 'suggests', 'that', 'come', '##y', 'anything', 'other', 'than', 'gross', '##ly', 'inc', '##omp', '##ete', '##nt', 'toned', '##ea', '##f', 'what', 'does', 'suggest', 'however', 'that', 'cha', '##ffe', '##tz', 'acting', 'that', 'makes', 'burton', 'darrell', 'iss', '##a', 'look', 'like', 'models', 'responsibility', 'bi', '##partisan', '##ship', 'didn', '’', 't', 'even', 'have', 'dec', '##ency', 'not', '##ify', 'ranking', 'member', 'elijah', 'cummings', 'about', 'something', 'this', 'explosive', 'that', 'doesn', '’', 't', 'tram', '##ple', 'basic', 'standards', 'fairness', 'don', '’', 't', 'know', 'what', 'does', 'granted', 'it', '’', 's', 'likely', 'that', 'cha', '##ffe', '##tz', 'will', 'have', 'answer', 'this', 'sits', 'ridiculous', '##ly', 'republican', 'district', 'anchored', 'pro', '##vo', 'ore', '##m', 'cook', 'partisan', 'voting', 'index', 'r', '##25', 'gave', 'mit', '##t', 'romney', 'punish', '##ing', 'percent', 'vote', '2012', 'moreover', 'republican', 'house', 'leadership', 'given', 'full', 'support', 'cha', '##ffe', '##tz', '’', 'planned', 'fishing', 'expedition', 'that', 'doesn', '’', 't', 'mean', 'can', '’', 't', 'turn', 'lights', 'him', 'after', 'all', 'textbook', 'example', 'what', 'house', 'become', 'under', 'republican', 'control', 'also', 'second', 'worst', 'person', 'world', 'about', 'darrell', 'luc', '##us', 'darrell', '30', '##some', '##thing', 'graduate', 'university', 'north', 'carolina', 'considers', 'himself', 'journalist', 'school', 'attempt', 'turn', 'into', 'member', 'religious', 'right', 'college', 'only', 'succeeded', 'turning', 'into', 'religious', 'rights', 'worst', 'nightmare', '##a', 'charismatic', 'christian', 'una', '##pol', '##oge', '##tic', 'liberal', 'desire', 'stand', 'those', 'have', 'been', 'scared', 'into', 'silence', 'only', 'increased', 'when', 'survived', 'abusive', 'three', '##year', 'marriage', 'know', 'daily', 'christian', 'follow', 'twitter', 'darrell', '##lu', '##cus', 'connect', 'with', 'facebook', 'click', 'here', 'darrell', 'mel', '##lo', 'yell', '##o', 'connect', '[SEP]']\n"
          ]
        }
      ],
      "source": [
        "# add special tokens for BERT to work properly\n",
        "sentences__ = [\"[CLS] \" + query + \" [SEP]\" for query in train_data_fakenews_x.text]\n",
        "print(sentences__[0])\n",
        "\n",
        "# Tokenize with BERT tokenizer\n",
        "tokenizer__ = BertTokenizer.from_pretrained('bert-base-uncased', do_lower_case=True)\n",
        "tokenized_texts__ = [tokenizer__.tokenize(sent) for sent in sentences__]\n",
        "print (\"Tokenize the first sentence:\")\n",
        "print (tokenized_texts__[0])"
      ]
    },
    {
      "cell_type": "code",
      "execution_count": null,
      "metadata": {
        "id": "ql_lWA_YUHa6"
      },
      "outputs": [],
      "source": [
        "# Set the maximum sequence length. \n",
        "MAX_LEN = 128\n",
        "# Pad our input tokens\n",
        "input_ids_fake_news_train = pad_sequences([tokenizer__.convert_tokens_to_ids(txt) for txt in tokenized_texts__],\n",
        "                          maxlen=MAX_LEN, dtype=\"long\", truncating=\"post\", padding=\"post\")\n",
        "\n",
        "# Use the BERT tokenizer to convert the tokens to their index numbers in the BERT vocabulary\n",
        "input_ids_fake_news_train = [tokenizer__.convert_tokens_to_ids(x) for x in tokenized_texts__]\n",
        "\n",
        "input_ids_fake_news_train = pad_sequences(input_ids_fake_news_train, maxlen=MAX_LEN, dtype=\"long\", truncating=\"post\", padding=\"post\")"
      ]
    },
    {
      "cell_type": "markdown",
      "metadata": {
        "id": "hLoe0CCC44fO"
      },
      "source": [
        "### Tokenizing the val_data_fakenews.text"
      ]
    },
    {
      "cell_type": "code",
      "execution_count": null,
      "metadata": {
        "id": "C40Hf6p244fP"
      },
      "outputs": [],
      "source": [
        "# add special tokens for BERT to work properly\n",
        "_sentences__ = [\"[CLS] \" + query + \" [SEP]\" for query in val_data_fakenews_x.text]\n",
        "print(_sentences__[0])\n",
        "\n",
        "# Tokenize with BERT tokenizer\n",
        "_tokenizer__ = BertTokenizer.from_pretrained('bert-base-uncased', do_lower_case=True)\n",
        "_tokenized_texts__ = [_tokenizer__.tokenize(sent) for sent in _sentences__]\n",
        "print (\"Tokenize the first sentence:\")\n",
        "print (_tokenized_texts__[0])"
      ]
    },
    {
      "cell_type": "code",
      "execution_count": null,
      "metadata": {
        "id": "XnpKZi0w44fP"
      },
      "outputs": [],
      "source": [
        "# Set the maximum sequence length. \n",
        "MAX_LEN = 128\n",
        "# Pad our input tokens\n",
        "input_ids_fake_news_val = pad_sequences([_tokenizer__.convert_tokens_to_ids(txt) for txt in _tokenized_texts__],\n",
        "                          maxlen=MAX_LEN, dtype=\"long\", truncating=\"post\", padding=\"post\")\n",
        "\n",
        "# Use the BERT tokenizer to convert the tokens to their index numbers in the BERT vocabulary\n",
        "input_ids_fake_news_val = [_tokenizer__.convert_tokens_to_ids(x) for x in _tokenized_texts__]\n",
        "\n",
        "input_ids_fake_news_val = pad_sequences(input_ids_fake_news_val, maxlen=MAX_LEN, dtype=\"long\", truncating=\"post\", padding=\"post\")"
      ]
    },
    {
      "cell_type": "markdown",
      "metadata": {
        "id": "BVd5cymwy-rq"
      },
      "source": [
        "### Tokenizing the train_data_emotions.text"
      ]
    },
    {
      "cell_type": "code",
      "execution_count": null,
      "metadata": {
        "id": "L_ozkvLuZdop"
      },
      "outputs": [],
      "source": [
        "# add special tokens for BERT to work properly\n",
        "sentences = [\"[CLS] \" + query + \" [SEP]\" for query in train_data_emotions.text]\n",
        "print(sentences[0])\n",
        "\n",
        "# Tokenize with BERT tokenizer\n",
        "tokenizer = BertTokenizer.from_pretrained('bert-base-uncased', do_lower_case=True)\n",
        "tokenized_texts = [tokenizer.tokenize(sent) for sent in sentences]\n",
        "print (\"Tokenize the first sentence:\")\n",
        "print (tokenized_texts[0])"
      ]
    },
    {
      "cell_type": "code",
      "execution_count": null,
      "metadata": {
        "id": "aQjAibI_7NQ5"
      },
      "outputs": [],
      "source": [
        "# Set the maximum sequence length. \n",
        "MAX_LEN = 128\n",
        "# Pad our input tokens\n",
        "input_ids_train_emotions = pad_sequences([tokenizer.convert_tokens_to_ids(txt) for txt in tokenized_texts],\n",
        "                          maxlen=MAX_LEN, dtype=\"long\", truncating=\"post\", padding=\"post\")\n",
        "\n",
        "# Use the BERT tokenizer to convert the tokens to their index numbers in the BERT vocabulary\n",
        "input_ids_train_emotions = [tokenizer.convert_tokens_to_ids(x) for x in tokenized_texts]\n",
        "\n",
        "input_ids_train_emotions = pad_sequences(input_ids_train_emotions, maxlen=MAX_LEN, dtype=\"long\", truncating=\"post\", padding=\"post\")"
      ]
    },
    {
      "cell_type": "markdown",
      "metadata": {
        "id": "RBDTv6CozJKX"
      },
      "source": [
        "### Tokenizing the test_data_emotion.text"
      ]
    },
    {
      "cell_type": "code",
      "execution_count": null,
      "metadata": {
        "id": "10m1rU_pzJKY"
      },
      "outputs": [],
      "source": [
        "# add special tokens for BERT to work properly\n",
        "sentences_ = [\"[CLS] \" + query + \" [SEP]\" for query in test_data_emotions.text]\n",
        "print(sentences_[0])\n",
        "\n",
        "# Tokenize with BERT tokenizer\n",
        "tokenizer_ = BertTokenizer.from_pretrained('bert-base-uncased', do_lower_case=True)\n",
        "tokenized_texts_ = [tokenizer_.tokenize(sent) for sent in sentences_]\n",
        "print (\"Tokenize the first sentence:\")\n",
        "print (tokenized_texts_[0])"
      ]
    },
    {
      "cell_type": "code",
      "execution_count": null,
      "metadata": {
        "id": "HUOEExSwzJKa"
      },
      "outputs": [],
      "source": [
        "# Set the maximum sequence length. \n",
        "MAX_LEN = 128\n",
        "# Pad our input tokens\n",
        "input_ids_val_emotions = pad_sequences([tokenizer_.convert_tokens_to_ids(txt) for txt in tokenized_texts_],\n",
        "                          maxlen=MAX_LEN, dtype=\"long\", truncating=\"post\", padding=\"post\")\n",
        "\n",
        "# Use the BERT tokenizer to convert the tokens to their index numbers in the BERT vocabulary\n",
        "input_ids_val_emotions = [tokenizer_.convert_tokens_to_ids(x) for x in tokenized_texts_]\n",
        "\n",
        "input_ids_val_emotions = pad_sequences(input_ids_val_emotions, maxlen=MAX_LEN, dtype=\"long\", truncating=\"post\", padding=\"post\")"
      ]
    },
    {
      "cell_type": "markdown",
      "metadata": {
        "id": "39sBaSfQVxzy"
      },
      "source": [
        "##   Bert Model to classify emotions - Keras\n",
        "\n",
        "\n",
        "\n",
        "\n"
      ]
    },
    {
      "cell_type": "code",
      "execution_count": null,
      "metadata": {
        "id": "LMdjZvIUVxz0"
      },
      "outputs": [],
      "source": [
        "import os\n",
        "import shutil\n",
        "\n",
        "import tensorflow as tf\n",
        "from tensorflow import keras\n",
        "from tensorflow.keras import layers\n",
        "\n",
        "import tensorflow_hub as hub\n",
        "import tensorflow_text as text\n",
        "from official.nlp import optimization  # to create AdamW optimizer\n",
        "\n",
        "import matplotlib.pyplot as plt\n",
        "\n",
        "tf.get_logger().setLevel('ERROR')\n",
        "\n",
        "AUTOTUNE = tf.data.AUTOTUNE\n",
        "batch_size = 32\n",
        "seed = 42\n",
        "\n",
        "class TransformerEncoder(layers.Layer):\n",
        "    def __init__(self, embed_dim, dense_dim, num_heads, **kwargs):\n",
        "        super().__init__(**kwargs)\n",
        "        self.embed_dim = embed_dim\n",
        "        self.dense_dim = dense_dim\n",
        "        self.num_heads = num_heads\n",
        "        self.attention = layers.MultiHeadAttention(\n",
        "            num_heads=num_heads, key_dim=embed_dim)\n",
        "        self.dense_proj = keras.Sequential(\n",
        "            [layers.Dense(dense_dim, activation=\"relu\"),\n",
        "             layers.Dense(embed_dim),]\n",
        "        )\n",
        "        self.layernorm_1 = layers.LayerNormalization()\n",
        "        self.layernorm_2 = layers.LayerNormalization()\n",
        "\n",
        "    def call(self, inputs, mask=None):\n",
        "        if mask is not None:\n",
        "            mask = mask[:, tf.newaxis, :]\n",
        "        attention_output = self.attention(\n",
        "            inputs, inputs, attention_mask=mask)\n",
        "        proj_input = self.layernorm_1(inputs + attention_output)\n",
        "        proj_output = self.dense_proj(proj_input)\n",
        "        return self.layernorm_2(proj_input + proj_output)\n",
        "\n",
        "    def get_config(self):\n",
        "        config = super().get_config()\n",
        "        config.update({\n",
        "            \"embed_dim\": self.embed_dim,\n",
        "            \"num_heads\": self.num_heads,\n",
        "            \"dense_dim\": self.dense_dim,\n",
        "        })\n",
        "        return config"
      ]
    },
    {
      "cell_type": "code",
      "execution_count": null,
      "metadata": {
        "id": "SKf5LkZxZ_FF"
      },
      "outputs": [],
      "source": [
        "vocab_size = 30000\n",
        "embed_dim = 256\n",
        "num_heads = 2\n",
        "dense_dim = 32\n",
        "\n",
        "inputs = keras.Input(shape=(None,), dtype=\"int64\")\n",
        "x = layers.Embedding(vocab_size, embed_dim)(inputs)\n",
        "x = TransformerEncoder(embed_dim, dense_dim, num_heads)(x)\n",
        "x = layers.GlobalMaxPooling1D()(x)\n",
        "# variar a partir daqui\n",
        "x = layers.Dropout(0.5)(x)\n",
        "x = layers.Dense(256, activation=\"relu\")(x)\n",
        "x = layers.Dropout(0.5)(x)\n",
        "x = layers.Dense(512, activation=\"relu\")(x)\n",
        "#######################\n",
        "outputs = layers.Dense(1, activation=\"sigmoid\")(x)"
      ]
    },
    {
      "cell_type": "code",
      "source": [
        "model_emotions = keras.Model(inputs, outputs)\n",
        "model_emotions.compile(optimizer=\"rmsprop\",\n",
        "              #loss=\"categorical_crossentropy\",\n",
        "              loss=\"mean_squared_error\",\n",
        "              metrics=[\"accuracy\"])\n",
        "model_emotions.summary()\n",
        "\n",
        "callbacks = [\n",
        "    keras.callbacks.ModelCheckpoint( filepath=\"/content/bert_emotions.keras\",\n",
        "                                    save_best_only=True)\n",
        "]\n",
        "\n",
        "y =  train_data_emotions['sentiment']\n",
        "y2 =  test_data_emotions['sentiment']\n",
        "\n",
        "history = model_emotions.fit(input_ids_train_emotions,y, epochs=20, callbacks=callbacks, validation_data=(input_ids_val_emotions, y2))\n",
        "\n",
        "model_emotions = keras.models.load_model(\n",
        "    filepath=\"/content/bert_emotions.keras\",\n",
        "    custom_objects={\"TransformerEncoder\": TransformerEncoder})"
      ],
      "metadata": {
        "id": "LmwrqF6G6q1O"
      },
      "execution_count": null,
      "outputs": []
    },
    {
      "cell_type": "code",
      "execution_count": null,
      "metadata": {
        "id": "6oOYNdwRawMp"
      },
      "outputs": [],
      "source": [
        "model_fake = keras.Model(inputs, outputs)\n",
        "model_fake.compile(optimizer=\"rmsprop\",\n",
        "              #loss=\"categorical_crossentropy\",\n",
        "              loss=\"mean_squared_error\",\n",
        "              metrics=[\"accuracy\"])\n",
        "model_fake.summary()\n",
        "\n",
        "callbacks = [\n",
        "    keras.callbacks.ModelCheckpoint( filepath=\"/content/bert_fake.keras\",\n",
        "                                    save_best_only=True)\n",
        "]\n",
        "\n",
        "history = model_fake.fit(input_ids_fake_news_train,train_data_fakenews_y, epochs=20, callbacks=callbacks, validation_data=(input_ids_fake_news_train, val_data_fakenews_y))\n",
        "\n",
        "model_fake = keras.models.load_model(\n",
        "    filepath=\"/content/bert_fake.keras\",\n",
        "    custom_objects={\"TransformerEncoder\": TransformerEncoder})"
      ]
    }
  ],
  "metadata": {
    "accelerator": "GPU",
    "colab": {
      "collapsed_sections": [
        "owOMPz4f4rl9",
        "iICBwyRV0sUg",
        "veVIaivw1HPa",
        "BVd5cymwy-rq",
        "RBDTv6CozJKX"
      ],
      "name": "FakeNewsDetectionProj.ipynb",
      "provenance": [],
      "include_colab_link": true
    },
    "kernelspec": {
      "display_name": "Python 3",
      "name": "python3"
    },
    "language_info": {
      "name": "python"
    }
  },
  "nbformat": 4,
  "nbformat_minor": 0
}