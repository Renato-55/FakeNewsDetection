{
  "nbformat": 4,
  "nbformat_minor": 0,
  "metadata": {
    "colab": {
      "name": "FakeNewsDetectionProj.ipynb",
      "provenance": [],
      "authorship_tag": "ABX9TyP+svQgJ5wF3r6g0ktMHcf1",
      "include_colab_link": true
    },
    "kernelspec": {
      "name": "python3",
      "display_name": "Python 3"
    },
    "language_info": {
      "name": "python"
    }
  },
  "cells": [
    {
      "cell_type": "markdown",
      "metadata": {
        "id": "view-in-github",
        "colab_type": "text"
      },
      "source": [
        "<a href=\"https://colab.research.google.com/github/Renato-55/FakeNewsDetection/blob/main/FakeNewsDetectionProj.ipynb\" target=\"_parent\"><img src=\"https://colab.research.google.com/assets/colab-badge.svg\" alt=\"Open In Colab\"/></a>"
      ]
    },
    {
      "cell_type": "markdown",
      "source": [
        "## 1. Load and store the dataset in the FakeNewsDetectionData\n"
      ],
      "metadata": {
        "id": "E70KBoJVpaaE"
      }
    },
    {
      "cell_type": "code",
      "source": [
        "#API Token\n",
        "!echo '{\"username\":\"renatobarbosa0707\",\"key\":\"688080334f032395f65abb05549c245c\"}' > ~/.kaggle/kaggle.json\n",
        "!touch ~/.kaggle/kaggle.json\n",
        "!chmod 600 /root/.kaggle/kaggle.json\n",
        "#download dataset fromr kaggle\n",
        "!kaggle competitions download fake-news\n",
        "#create new directory to store the dataset from kaggle\n",
        "!mkdir FakeNewsDetectionData\n",
        "#unzip the data data from source_path to target_path\n",
        "!unzip \"/content/fake-news.zip\" -d \"/content/FakeNewsDetectionData\""
      ],
      "metadata": {
        "id": "GTlZieIX06X-"
      },
      "execution_count": null,
      "outputs": []
    },
    {
      "cell_type": "markdown",
      "source": [
        "## 2. Load data from the folder and make a simple analysis on the data"
      ],
      "metadata": {
        "id": "h60NpYPgpvaM"
      }
    },
    {
      "cell_type": "code",
      "source": [
        "import numpy as np\n",
        "import pandas as pd\n",
        "import seaborn as sns\n",
        "import matplotlib.pyplot as plt\n",
        "import tensorflow as tf\n",
        "\n",
        "#path to data\n",
        "path = \"/content/FakeNewsDetectionData/\"\n",
        "\n",
        "#Load Data\n",
        "train_data = pd.read_csv(path + \"train.csv\")\n",
        "eval_data_x = pd.read_csv(path + \"test.csv\")\n",
        "eval_data_y = pd.read_csv(path + \"submit.csv\")"
      ],
      "metadata": {
        "id": "AgjGU_k4yPvP"
      },
      "execution_count": 3,
      "outputs": []
    },
    {
      "cell_type": "code",
      "source": [
        "#data cleaning\n",
        "null_val = train_data.isnull().sum().sum()\n",
        "\n",
        "if null_val == 0:\n",
        "  print(\"No null values\\n\")\n",
        "else:\n",
        "  print(f\"Null values: {null_val}\\n\")\n",
        "\n",
        "features = []\n",
        "null_values_table = []\n",
        "for x in train_data:\n",
        "  features.append(x)\n",
        "  null_values_table.append(train_data[x].isnull().sum())\n",
        "  print(f\"The table {x} has {train_data[x].isnull().sum()}\")\n",
        " \n",
        "sns.barplot(y=null_values_table,x=features)\n",
        "plt.title(\"Null values in columns datasets\")\n",
        "plt.show()"
      ],
      "metadata": {
        "colab": {
          "base_uri": "https://localhost:8080/",
          "height": 409
        },
        "id": "jRcTKbkk2j23",
        "outputId": "93d9fd34-1dbc-4f9d-befe-352f5d602f78"
      },
      "execution_count": 14,
      "outputs": [
        {
          "output_type": "stream",
          "name": "stdout",
          "text": [
            "Null values: 2554\n",
            "\n",
            "The table id has 0\n",
            "The table title has 558\n",
            "The table author has 1957\n",
            "The table text has 39\n",
            "The table label has 0\n"
          ]
        },
        {
          "output_type": "display_data",
          "data": {
            "text/plain": [
              "<Figure size 432x288 with 1 Axes>"
            ],
            "image/png": "[encoded data removed]"
          },
          "metadata": {
            "needs_background": "light"
          }
        }
      ]
    },
    {
      "cell_type": "code",
      "source": [
        "y = []\n",
        "y.append(np.sum(train_data['label'] == 1))\n",
        "y.append(np.sum(train_data['label'] == 0))\n",
        "\n",
        "x = ['Yes','No']\n",
        "sns.barplot(x=x,y=y)\n",
        "plt.title(\"Yes = Fake New, No = Not Fake New\")\n",
        "plt.show()"
      ],
      "metadata": {
        "colab": {
          "base_uri": "https://localhost:8080/",
          "height": 281
        },
        "id": "jx78HdAIrxBq",
        "outputId": "9956133d-b48d-42aa-d746-f8011bcc707b"
      },
      "execution_count": 35,
      "outputs": [
        {
          "output_type": "display_data",
          "data": {
            "text/plain": [
              "<Figure size 432x288 with 1 Axes>"
            ],
            "image/png": "[encoded data removed]"
          },
          "metadata": {
            "needs_background": "light"
          }
        }
      ]
    },
    {
      "cell_type": "markdown",
      "source": [
        "## 3. Train the model whit the data provided"
      ],
      "metadata": {
        "id": "hIXR6TXwp7Gt"
      }
    }
  ]
}