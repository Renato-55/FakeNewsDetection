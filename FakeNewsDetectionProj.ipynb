{
  "nbformat": 4,
  "nbformat_minor": 0,
  "metadata": {
    "colab": {
      "name": "FakeNewsDetectionProj.ipynb",
      "provenance": [],
      "collapsed_sections": [
        "owOMPz4f4rl9",
        "iICBwyRV0sUg",
        "veVIaivw1HPa",
        "BVd5cymwy-rq",
        "RBDTv6CozJKX"
      ],
      "include_colab_link": true
    },
    "kernelspec": {
      "name": "python3",
      "display_name": "Python 3"
    },
    "language_info": {
      "name": "python"
    },
    "accelerator": "GPU"
  },
  "cells": [
    {
      "cell_type": "markdown",
      "metadata": {
        "id": "view-in-github",
        "colab_type": "text"
      },
      "source": [
        "<a href=\"https://colab.research.google.com/github/Renato-55/FakeNewsDetection/blob/main/FakeNewsDetectionProj.ipynb\" target=\"_parent\"><img src=\"https://colab.research.google.com/assets/colab-badge.svg\" alt=\"Open In Colab\"/></a>"
      ]
    },
    {
      "cell_type": "markdown",
      "source": [
        "# 1. Load and store the dataset in the FakeNewsDetectionData "
      ],
      "metadata": {
        "id": "E70KBoJVpaaE"
      }
    },
    {
      "cell_type": "code",
      "source": [
        "# Can be necessary to download the latest version of matplot in order to use comands\n",
        "#such as ax.bar_label\n",
        "!pip install seaborn --upgrade\n",
        "!pip install matplotlib --upgrade\n",
        "\n",
        "#bert import\n",
        "#!pip install tensorflow_text\n",
        "#!pip install tf-models-official\n",
        "#!pip install pytorch-pretrained-bert pytorch-nlp"
      ],
      "metadata": {
        "id": "Ugz8rmdx3icw"
      },
      "execution_count": null,
      "outputs": []
    },
    {
      "cell_type": "code",
      "source": [
        "#API Token\n",
        "!echo '{\"username\":\"renatobarbosa0707\",\"key\":\"688080334f032395f65abb05549c245c\"}' > ~/.kaggle/kaggle.json\n",
        "!touch ~/.kaggle/kaggle.json\n",
        "!chmod 600 /root/.kaggle/kaggle.json"
      ],
      "metadata": {
        "id": "GTlZieIX06X-"
      },
      "execution_count": 2,
      "outputs": []
    },
    {
      "cell_type": "code",
      "source": [
        "#download fake news dataset from kaggle\n",
        "!kaggle competitions download fake-news"
      ],
      "metadata": {
        "id": "ElDvxkWzT9sE",
        "colab": {
          "base_uri": "https://localhost:8080/"
        },
        "outputId": "c2a7e6cf-98c0-448a-c35d-38fcfeeaf6ea"
      },
      "execution_count": 3,
      "outputs": [
        {
          "output_type": "stream",
          "name": "stdout",
          "text": [
            "fake-news.zip: Skipping, found more recently modified local copy (use --force to force download)\n"
          ]
        }
      ]
    },
    {
      "cell_type": "code",
      "source": [
        "#create new directory to store the dataset from kaggle\n",
        "!mkdir FakeNewsDetectionData"
      ],
      "metadata": {
        "id": "Z8KJwIXUeirK",
        "outputId": "b9c24640-be68-4b0b-e94c-a74335632a38",
        "colab": {
          "base_uri": "https://localhost:8080/"
        }
      },
      "execution_count": 4,
      "outputs": [
        {
          "output_type": "stream",
          "name": "stdout",
          "text": [
            "mkdir: cannot create directory ‘FakeNewsDetectionData’: File exists\n"
          ]
        }
      ]
    },
    {
      "cell_type": "code",
      "source": [
        "#unzip the data from source_path to target_path\n",
        "!unzip \"/content/fake-news.zip\" -d \"/content/FakeNewsDetectionData\""
      ],
      "metadata": {
        "colab": {
          "base_uri": "https://localhost:8080/"
        },
        "id": "Zu4W7EZuvamD",
        "outputId": "c10c7559-4497-4ede-9044-d54e675a7049"
      },
      "execution_count": 5,
      "outputs": [
        {
          "output_type": "stream",
          "name": "stdout",
          "text": [
            "Archive:  /content/fake-news.zip\n",
            "replace /content/FakeNewsDetectionData/submit.csv? [y]es, [n]o, [A]ll, [N]one, [r]ename: n\n",
            "replace /content/FakeNewsDetectionData/test.csv? [y]es, [n]o, [A]ll, [N]one, [r]ename: n\n",
            "replace /content/FakeNewsDetectionData/train.csv? [y]es, [n]o, [A]ll, [N]one, [r]ename: n\n"
          ]
        }
      ]
    },
    {
      "cell_type": "code",
      "source": [
        "#download emotions news dataset from kaggle\n",
        "!kaggle competitions download -c tweet-sentiment-extraction"
      ],
      "metadata": {
        "id": "7pqgBDv24An-",
        "colab": {
          "base_uri": "https://localhost:8080/"
        },
        "outputId": "219cc557-74d3-4048-f22b-7a88822391c5"
      },
      "execution_count": 6,
      "outputs": [
        {
          "output_type": "stream",
          "name": "stdout",
          "text": [
            "tweet-sentiment-extraction.zip: Skipping, found more recently modified local copy (use --force to force download)\n"
          ]
        }
      ]
    },
    {
      "cell_type": "code",
      "source": [
        "#create new directory to store the dataset from kaggle\n",
        "!mkdir EmotionData"
      ],
      "metadata": {
        "colab": {
          "base_uri": "https://localhost:8080/"
        },
        "id": "waInF4g14AvK",
        "outputId": "3e68d6d1-199c-4e05-89d3-c4550a0b3d4c"
      },
      "execution_count": 7,
      "outputs": [
        {
          "output_type": "stream",
          "name": "stdout",
          "text": [
            "mkdir: cannot create directory ‘EmotionData’: File exists\n"
          ]
        }
      ]
    },
    {
      "cell_type": "code",
      "source": [
        "#unzip the data from source_path to target_path\n",
        "!unzip \"/content/tweet-sentiment-extraction.zip\" -d \"/content/EmotionData\""
      ],
      "metadata": {
        "colab": {
          "base_uri": "https://localhost:8080/"
        },
        "id": "NGhucP9u4AzV",
        "outputId": "f12b3ed5-f4d6-48ff-8faf-8dfe0713099b"
      },
      "execution_count": 8,
      "outputs": [
        {
          "output_type": "stream",
          "name": "stdout",
          "text": [
            "Archive:  /content/tweet-sentiment-extraction.zip\n",
            "replace /content/EmotionData/sample_submission.csv? [y]es, [n]o, [A]ll, [N]one, [r]ename: n\n",
            "replace /content/EmotionData/test.csv? [y]es, [n]o, [A]ll, [N]one, [r]ename: n\n",
            "replace /content/EmotionData/train.csv? [y]es, [n]o, [A]ll, [N]one, [r]ename: n\n"
          ]
        }
      ]
    },
    {
      "cell_type": "markdown",
      "source": [
        ""
      ],
      "metadata": {
        "id": "GmRglBsz49JZ"
      }
    },
    {
      "cell_type": "markdown",
      "source": [
        "# 2. Load data from the folder and make a simple analysis on the data"
      ],
      "metadata": {
        "id": "h60NpYPgpvaM"
      }
    },
    {
      "cell_type": "markdown",
      "source": [
        "## Load and Data Prep (Data cleaning) on the fake news data set"
      ],
      "metadata": {
        "id": "owOMPz4f4rl9"
      }
    },
    {
      "cell_type": "code",
      "source": [
        "import numpy as np\n",
        "import pandas as pd\n",
        "import seaborn as sns\n",
        "import matplotlib.pyplot as plt\n",
        "import tensorflow as tf\n",
        "\n",
        "#path to data\n",
        "path_fakenews = \"/content/FakeNewsDetectionData/\"\n",
        "\n",
        "#Load Data\n",
        "train_data_fakenews = pd.read_csv(path_fakenews + \"train.csv\")\n",
        "eval_data_x_fakenews = pd.read_csv(path_fakenews + \"test.csv\")\n",
        "eval_data_y_fakenews = pd.read_csv(path_fakenews + \"submit.csv\")"
      ],
      "metadata": {
        "id": "AgjGU_k4yPvP"
      },
      "execution_count": 4,
      "outputs": []
    },
    {
      "cell_type": "code",
      "source": [
        "#data cleaning\n",
        "null_val = train_data_fakenews.isnull().sum().sum()\n",
        "\n",
        "if null_val == 0:\n",
        "  print(\"No null values\\n\")\n",
        "else:\n",
        "  print(f\"Null values: {null_val}\\n\")\n",
        "\n",
        "features = []\n",
        "null_values_table = []\n",
        "for x in train_data_fakenews:\n",
        "  features.append(x)\n",
        "  null_values_table.append(train_data_fakenews[x].isnull().sum())\n",
        "  print(f\"The table {x} has {train_data_fakenews[x].isnull().sum()}\")\n",
        " \n",
        "sns.barplot(y=null_values_table,x=features)\n",
        "plt.title(\"Null values in columns datasets\")\n",
        "plt.show()"
      ],
      "metadata": {
        "id": "jRcTKbkk2j23"
      },
      "execution_count": null,
      "outputs": []
    },
    {
      "cell_type": "code",
      "source": [
        "y = []\n",
        "y.append(np.sum(train_data_fakenews['label'] == 1))\n",
        "y.append(np.sum(train_data_fakenews['label'] == 0))\n",
        "\n",
        "x = ['Yes','No']\n",
        "ax = sns.barplot(x=x,y=y)\n",
        "ax.bar_label(ax.containers[0])\n",
        "plt.title(\"Yes = Fake New, No = Not Fake New\")\n",
        "plt.show()"
      ],
      "metadata": {
        "colab": {
          "base_uri": "https://localhost:8080/",
          "height": 281
        },
        "id": "jx78HdAIrxBq",
        "outputId": "2537714b-6c93-4c74-8d44-245fdecc0978"
      },
      "execution_count": 11,
      "outputs": [
        {
          "output_type": "display_data",
          "data": {
            "text/plain": [
              "<Figure size 432x288 with 1 Axes>"
            ],
            "image/png": "[encoded data removed]"
          },
          "metadata": {
            "needs_background": "light"
          }
        }
      ]
    },
    {
      "cell_type": "markdown",
      "source": [
        "## Load and Data Prep (Data cleaning) on the emotions data set"
      ],
      "metadata": {
        "id": "6lQzAcag5gX0"
      }
    },
    {
      "cell_type": "code",
      "source": [
        "import numpy as np\n",
        "import pandas as pd\n",
        "import seaborn as sns\n",
        "import matplotlib.pyplot as plt\n",
        "import tensorflow as tf\n",
        "\n",
        "#path to data\n",
        "path_emotions = \"/content/EmotionData/\"\n",
        "\n",
        "#Load Data\n",
        "train_data_emotions = pd.read_csv(path_emotions+ \"train.csv\")\n",
        "test_data_emotions =  pd.read_csv(path_emotions+ \"test.csv\")\n",
        "#eval_data_emotions =  pd.read_csv(path_emotions+ \"val.txt\", names=['Text', 'Emotion'], sep=';')"
      ],
      "metadata": {
        "id": "U6BNuy1E5kk7"
      },
      "execution_count": 5,
      "outputs": []
    },
    {
      "cell_type": "markdown",
      "source": [
        "### Remove null val and data analysis on train_data"
      ],
      "metadata": {
        "id": "iICBwyRV0sUg"
      }
    },
    {
      "cell_type": "code",
      "source": [
        "#data cleaning on train_data\n",
        "null_val = train_data_emotions.isnull().sum().sum()\n",
        "\n",
        "if null_val == 0:\n",
        "  print(\"No null values\\n\")\n",
        "else:\n",
        "  print(f\"Null values: {null_val}\\n\")\n",
        "\n",
        "features = []\n",
        "null_values_table = []\n",
        "for x in train_data_emotions:\n",
        "  features.append(x)\n",
        "  null_values_table.append(train_data_emotions[x].isnull().sum())\n",
        "  print(f\"The table {x} has {train_data_emotions[x].isnull().sum()}\")\n",
        " \n",
        "ax = sns.barplot(y=null_values_table,x=features)\n",
        "ax.bar_label(ax.containers[0])\n",
        "plt.title(\"Null values in columns datasets\")\n",
        "plt.show()\n",
        "\n",
        "#check how many times each emotion appers on the dataset\n",
        "categorias_name = train_data_emotions.sentiment.unique()\n",
        "\n",
        "categorias_count = []\n",
        "for x in  categorias_name:\n",
        "  counts = train_data_emotions.loc[train_data_emotions.sentiment == x]\n",
        "  categorias_count.append(counts.shape[0])\n",
        "\n",
        "ax = sns.barplot(x=categorias_name,y=categorias_count,data=train_data_emotions)\n",
        "ax.bar_label(ax.containers[0])\n",
        "plt.title(\"Each Category Count\")\n",
        "plt.show()\n",
        "\n",
        "def swapLabelEmotion(str):\n",
        "  return 0 if str == 'neutral' else 1\n",
        "\n",
        "#Change the label to 0 and 1\n",
        "train_data_emotions['sentiment'] = train_data_emotions['sentiment'].map(lambda x:swapLabelEmotion(x))\n",
        "\n",
        "#check how many times each emotion appers on the dataset\n",
        "categorias_count = train_data_emotions.groupby('sentiment').sentiment.count()\n",
        "categorias_name = ['neutral','emotional']\n",
        "\n",
        "ax = sns.barplot(x=categorias_name,y=categorias_count,data=train_data_emotions)\n",
        "ax.bar_label(ax.containers[0])\n",
        "plt.title(\"Each Category Count\")\n",
        "plt.show()\n",
        "\n",
        "#i will drop the null value on the emotion dataset\n",
        "train_data_emotions.dropna(inplace=True)"
      ],
      "metadata": {
        "colab": {
          "base_uri": "https://localhost:8080/",
          "height": 914
        },
        "id": "Ww3Nx1Bd2pcm",
        "outputId": "90ef36ae-1ae9-46c5-ef5f-624d9bb6f96b"
      },
      "execution_count": 6,
      "outputs": [
        {
          "output_type": "stream",
          "name": "stdout",
          "text": [
            "Null values: 2\n",
            "\n",
            "The table textID has 0\n",
            "The table text has 1\n",
            "The table selected_text has 1\n",
            "The table sentiment has 0\n"
          ]
        },
        {
          "output_type": "display_data",
          "data": {
            "text/plain": [
              "<Figure size 432x288 with 1 Axes>"
            ],
            "image/png": "[encoded data removed]"
          },
          "metadata": {
            "needs_background": "light"
          }
        },
        {
          "output_type": "display_data",
          "data": {
            "text/plain": [
              "<Figure size 432x288 with 1 Axes>"
            ],
            "image/png": "[encoded data removed]"
          },
          "metadata": {
            "needs_background": "light"
          }
        },
        {
          "output_type": "display_data",
          "data": {
            "text/plain": [
              "<Figure size 432x288 with 1 Axes>"
            ],
            "image/png": "[encoded data removed]"
          },
          "metadata": {
            "needs_background": "light"
          }
        }
      ]
    },
    {
      "cell_type": "markdown",
      "source": [
        "### Remove null val and data analysis on test_data"
      ],
      "metadata": {
        "id": "veVIaivw1HPa"
      }
    },
    {
      "cell_type": "code",
      "source": [
        "#data cleaning\n",
        "null_val = test_data_emotions.isnull().sum().sum()\n",
        "\n",
        "if null_val == 0:\n",
        "  print(\"No null values\\n\")\n",
        "else:\n",
        "  print(f\"Null values: {null_val}\\n\")\n",
        "\n",
        "features = []\n",
        "null_values_table = []\n",
        "for x in test_data_emotions:\n",
        "  features.append(x)\n",
        "  null_values_table.append(test_data_emotions[x].isnull().sum())\n",
        "  print(f\"The table {x} has {test_data_emotions[x].isnull().sum()}\")\n",
        " \n",
        "ax = sns.barplot(y=null_values_table,x=features)\n",
        "ax.bar_label(ax.containers[0])\n",
        "plt.title(\"Null values in columns datasets\")\n",
        "plt.show()\n",
        "\n",
        "#check how many times each emotion appers on the dataset\n",
        "categorias_name = test_data_emotions.sentiment.unique()\n",
        "\n",
        "categorias_count = []\n",
        "for x in  categorias_name:\n",
        "  counts = test_data_emotions.loc[test_data_emotions.sentiment == x]\n",
        "  categorias_count.append(counts.shape[0])\n",
        "\n",
        "ax = sns.barplot(x=categorias_name,y=categorias_count,data=test_data_emotions)\n",
        "ax.bar_label(ax.containers[0])\n",
        "plt.title(\"Each Category Count\")\n",
        "plt.show()\n",
        "\n",
        "def swapLabelEmotion(str):\n",
        "  return 0 if str == 'neutral' else 1\n",
        "\n",
        "#Change the label to 0 and 1\n",
        "test_data_emotions['sentiment'] = test_data_emotions['sentiment'].map(lambda x:swapLabelEmotion(x))\n",
        "\n",
        "#check how many times each emotion appers on the dataset\n",
        "categorias_count = test_data_emotions.groupby('sentiment').sentiment.count()\n",
        "categorias_name = ['neutral','emotional']\n",
        "\n",
        "ax = sns.barplot(x=categorias_name,y=categorias_count,data=test_data_emotions)\n",
        "ax.bar_label(ax.containers[0])\n",
        "plt.title(\"Each Category Count\")\n",
        "plt.show()\n",
        "\n",
        "#i will drop the null value on the emotion dataset\n",
        "test_data_emotions.dropna(inplace=True)"
      ],
      "metadata": {
        "colab": {
          "base_uri": "https://localhost:8080/",
          "height": 896
        },
        "id": "Rr9TA4Zzz9D7",
        "outputId": "6c7bab6a-2101-4448-98d2-345d1a3e44fd"
      },
      "execution_count": 7,
      "outputs": [
        {
          "output_type": "stream",
          "name": "stdout",
          "text": [
            "No null values\n",
            "\n",
            "The table textID has 0\n",
            "The table text has 0\n",
            "The table sentiment has 0\n"
          ]
        },
        {
          "output_type": "display_data",
          "data": {
            "text/plain": [
              "<Figure size 432x288 with 1 Axes>"
            ],
            "image/png": "[encoded data removed]"
          },
          "metadata": {
            "needs_background": "light"
          }
        },
        {
          "output_type": "display_data",
          "data": {
            "text/plain": [
              "<Figure size 432x288 with 1 Axes>"
            ],
            "image/png": "[encoded data removed]"
          },
          "metadata": {
            "needs_background": "light"
          }
        },
        {
          "output_type": "display_data",
          "data": {
            "text/plain": [
              "<Figure size 432x288 with 1 Axes>"
            ],
            "image/png": "[encoded data removed]"
          },
          "metadata": {
            "needs_background": "light"
          }
        }
      ]
    },
    {
      "cell_type": "markdown",
      "source": [
        "# 3. Train the model whit the data provided"
      ],
      "metadata": {
        "id": "hIXR6TXwp7Gt"
      }
    },
    {
      "cell_type": "markdown",
      "source": [
        "##   Bert Model to classify emotions - Data prep\n",
        "\n",
        "\n",
        "\n",
        "\n"
      ],
      "metadata": {
        "id": "sG6J1K1j4n8l"
      }
    },
    {
      "cell_type": "code",
      "source": [
        "import string\n",
        "#I need to clean out the data from text\n",
        "def removePunc(s):\n",
        "  return s.translate(str.maketrans('', '', string.punctuation))\n",
        "\n",
        "def removeWordsLessThan(sentence):\n",
        "  spilted_sentence = sentence.split()\n",
        "  new_str = []\n",
        "  for s in spilted_sentence:\n",
        "    if len(s) > 3:\n",
        "      new_str.append(s)\n",
        "\n",
        "  return \" \".join(new_str)\n",
        "\n",
        "train_data_emotions['text'] = train_data_emotions['text'].map(lambda x:removeWordsLessThan(x))\n",
        "train_data_emotions['text'] = train_data_emotions['text'].map(lambda x:removePunc(x))\n",
        "\n",
        "test_data_emotions['text'] = test_data_emotions['text'].map(lambda x:removeWordsLessThan(x))\n",
        "test_data_emotions['text'] = test_data_emotions['text'].map(lambda x:removePunc(x))"
      ],
      "metadata": {
        "id": "l7efh1Hk6I0e"
      },
      "execution_count": 8,
      "outputs": []
    },
    {
      "cell_type": "code",
      "source": [
        "# BERT imports\n",
        "import torch\n",
        "from torch.utils.data import TensorDataset, DataLoader, RandomSampler, SequentialSampler\n",
        "from keras.preprocessing.sequence import pad_sequences\n",
        "from sklearn.model_selection import train_test_split\n",
        "from pytorch_pretrained_bert import BertTokenizer, BertConfig\n",
        "from pytorch_pretrained_bert import BertAdam, BertForSequenceClassification\n",
        "from tqdm import tqdm, trange\n",
        "import pandas as pd\n",
        "import io\n",
        "import numpy as np\n",
        "import matplotlib.pyplot as plt\n",
        "% matplotlib inline\n",
        "\n",
        "# specify GPU device\n",
        "device = torch.device(\"cuda\" if torch.cuda.is_available() else \"cpu\")\n",
        "n_gpu = torch.cuda.device_count()\n",
        "#torch.cuda.get_device_name(0)"
      ],
      "metadata": {
        "id": "kRjKIVRdV91B"
      },
      "execution_count": 9,
      "outputs": []
    },
    {
      "cell_type": "markdown",
      "source": [
        "### Tokenizing the train_data_emotion.text"
      ],
      "metadata": {
        "id": "BVd5cymwy-rq"
      }
    },
    {
      "cell_type": "code",
      "source": [
        "# add special tokens for BERT to work properly\n",
        "sentences = [\"[CLS] \" + query + \" [SEP]\" for query in train_data_emotions.text]\n",
        "print(sentences[0])\n",
        "\n",
        "# Tokenize with BERT tokenizer\n",
        "tokenizer = BertTokenizer.from_pretrained('bert-base-uncased', do_lower_case=True)\n",
        "tokenized_texts = [tokenizer.tokenize(sent) for sent in sentences]\n",
        "print (\"Tokenize the first sentence:\")\n",
        "print (tokenized_texts[0])"
      ],
      "metadata": {
        "colab": {
          "base_uri": "https://localhost:8080/"
        },
        "id": "L_ozkvLuZdop",
        "outputId": "0fed70b7-2447-49d6-f07a-aa8650dd05c9"
      },
      "execution_count": 10,
      "outputs": [
        {
          "output_type": "stream",
          "name": "stdout",
          "text": [
            "[CLS] have responded were going [SEP]\n",
            "Tokenize the first sentence:\n",
            "['[CLS]', 'have', 'responded', 'were', 'going', '[SEP]']\n"
          ]
        }
      ]
    },
    {
      "cell_type": "code",
      "source": [
        "# Set the maximum sequence length. \n",
        "MAX_LEN = 128\n",
        "# Pad our input tokens\n",
        "input_ids = pad_sequences([tokenizer.convert_tokens_to_ids(txt) for txt in tokenized_texts],\n",
        "                          maxlen=MAX_LEN, dtype=\"long\", truncating=\"post\", padding=\"post\")\n",
        "\n",
        "# Use the BERT tokenizer to convert the tokens to their index numbers in the BERT vocabulary\n",
        "input_ids = [tokenizer.convert_tokens_to_ids(x) for x in tokenized_texts]\n",
        "\n",
        "input_ids = pad_sequences(input_ids, maxlen=MAX_LEN, dtype=\"long\", truncating=\"post\", padding=\"post\")"
      ],
      "metadata": {
        "id": "aQjAibI_7NQ5"
      },
      "execution_count": 11,
      "outputs": []
    },
    {
      "cell_type": "markdown",
      "source": [
        "### Tokenizing the test_data_emotion.text"
      ],
      "metadata": {
        "id": "RBDTv6CozJKX"
      }
    },
    {
      "cell_type": "code",
      "source": [
        "# add special tokens for BERT to work properly\n",
        "sentences_ = [\"[CLS] \" + query + \" [SEP]\" for query in test_data_emotions.text]\n",
        "print(sentences_[0])\n",
        "\n",
        "# Tokenize with BERT tokenizer\n",
        "tokenizer_ = BertTokenizer.from_pretrained('bert-base-uncased', do_lower_case=True)\n",
        "tokenized_texts_ = [tokenizer_.tokenize(sent) for sent in sentences_]\n",
        "print (\"Tokenize the first sentence:\")\n",
        "print (tokenized_texts_[0])"
      ],
      "metadata": {
        "colab": {
          "base_uri": "https://localhost:8080/"
        },
        "outputId": "0fc339fc-beb2-4794-84f3-901e91762a24",
        "id": "10m1rU_pzJKY"
      },
      "execution_count": 12,
      "outputs": [
        {
          "output_type": "stream",
          "name": "stdout",
          "text": [
            "[CLS] Last session httptwitpiccom67ezh [SEP]\n",
            "Tokenize the first sentence:\n",
            "['[CLS]', 'last', 'session', 'http', '##t', '##wi', '##tp', '##ic', '##com', '##6', '##7', '##ez', '##h', '[SEP]']\n"
          ]
        }
      ]
    },
    {
      "cell_type": "code",
      "source": [
        "# Set the maximum sequence length. \n",
        "MAX_LEN = 128\n",
        "# Pad our input tokens\n",
        "input_ids_ = pad_sequences([tokenizer_.convert_tokens_to_ids(txt) for txt in tokenized_texts_],\n",
        "                          maxlen=MAX_LEN, dtype=\"long\", truncating=\"post\", padding=\"post\")\n",
        "\n",
        "# Use the BERT tokenizer to convert the tokens to their index numbers in the BERT vocabulary\n",
        "input_ids_ = [tokenizer_.convert_tokens_to_ids(x) for x in tokenized_texts_]\n",
        "\n",
        "input_ids_ = pad_sequences(input_ids_, maxlen=MAX_LEN, dtype=\"long\", truncating=\"post\", padding=\"post\")"
      ],
      "metadata": {
        "id": "HUOEExSwzJKa"
      },
      "execution_count": 13,
      "outputs": []
    },
    {
      "cell_type": "markdown",
      "source": [
        "##   Bert Model to classify emotions - Keras\n",
        "\n",
        "\n",
        "\n",
        "\n"
      ],
      "metadata": {
        "id": "39sBaSfQVxzy"
      }
    },
    {
      "cell_type": "code",
      "source": [
        "import os\n",
        "import shutil\n",
        "\n",
        "import tensorflow as tf\n",
        "from tensorflow import keras\n",
        "from tensorflow.keras import layers\n",
        "\n",
        "import tensorflow_hub as hub\n",
        "import tensorflow_text as text\n",
        "from official.nlp import optimization  # to create AdamW optimizer\n",
        "\n",
        "import matplotlib.pyplot as plt\n",
        "\n",
        "tf.get_logger().setLevel('ERROR')\n",
        "\n",
        "AUTOTUNE = tf.data.AUTOTUNE\n",
        "batch_size = 32\n",
        "seed = 42\n",
        "\n",
        "class TransformerEncoder(layers.Layer):\n",
        "    def __init__(self, embed_dim, dense_dim, num_heads, **kwargs):\n",
        "        super().__init__(**kwargs)\n",
        "        self.embed_dim = embed_dim\n",
        "        self.dense_dim = dense_dim\n",
        "        self.num_heads = num_heads\n",
        "        self.attention = layers.MultiHeadAttention(\n",
        "            num_heads=num_heads, key_dim=embed_dim)\n",
        "        self.dense_proj = keras.Sequential(\n",
        "            [layers.Dense(dense_dim, activation=\"relu\"),\n",
        "             layers.Dense(embed_dim),]\n",
        "        )\n",
        "        self.layernorm_1 = layers.LayerNormalization()\n",
        "        self.layernorm_2 = layers.LayerNormalization()\n",
        "\n",
        "    def call(self, inputs, mask=None):\n",
        "        if mask is not None:\n",
        "            mask = mask[:, tf.newaxis, :]\n",
        "        attention_output = self.attention(\n",
        "            inputs, inputs, attention_mask=mask)\n",
        "        proj_input = self.layernorm_1(inputs + attention_output)\n",
        "        proj_output = self.dense_proj(proj_input)\n",
        "        return self.layernorm_2(proj_input + proj_output)\n",
        "\n",
        "    def get_config(self):\n",
        "        config = super().get_config()\n",
        "        config.update({\n",
        "            \"embed_dim\": self.embed_dim,\n",
        "            \"num_heads\": self.num_heads,\n",
        "            \"dense_dim\": self.dense_dim,\n",
        "        })\n",
        "        return config"
      ],
      "metadata": {
        "id": "LMdjZvIUVxz0"
      },
      "execution_count": 14,
      "outputs": []
    },
    {
      "cell_type": "code",
      "source": [
        "vocab_size = 30000\n",
        "embed_dim = 256\n",
        "num_heads = 2\n",
        "dense_dim = 32\n",
        "\n",
        "inputs = keras.Input(shape=(None,), dtype=\"int64\")\n",
        "x = layers.Embedding(vocab_size, embed_dim)(inputs)\n",
        "x = TransformerEncoder(embed_dim, dense_dim, num_heads)(x)\n",
        "x = layers.GlobalMaxPooling1D()(x)\n",
        "x = layers.Dropout(0.5)(x)\n",
        "outputs = layers.Dense(1, activation=\"sigmoid\")(x)\n",
        "model = keras.Model(inputs, outputs)\n",
        "model.compile(optimizer=\"rmsprop\",\n",
        "              #loss=\"categorical_crossentropy\",\n",
        "              loss=\"mean_squared_error\",\n",
        "              metrics=[\"accuracy\"])\n",
        "model.summary()"
      ],
      "metadata": {
        "id": "SKf5LkZxZ_FF"
      },
      "execution_count": null,
      "outputs": []
    },
    {
      "cell_type": "code",
      "source": [
        "callbacks = [\n",
        "    keras.callbacks.ModelCheckpoint( filepath=\"/content/transformer_encoder.keras\",\n",
        "                                    save_best_only=True)\n",
        "]\n",
        "\n",
        "y =  train_data_emotions['sentiment']\n",
        "y2 =  test_data_emotions['sentiment']\n",
        "\n",
        "history = model.fit(input_ids,y, epochs=40, callbacks=callbacks, validation_data=(input_ids_, y2))\n",
        "\n",
        "model = keras.models.load_model(\n",
        "    filepath=\"/content/transformer_encoder.keras\",\n",
        "    custom_objects={\"TransformerEncoder\": TransformerEncoder})\n",
        "\n"
      ],
      "metadata": {
        "id": "6oOYNdwRawMp"
      },
      "execution_count": null,
      "outputs": []
    }
  ]
}