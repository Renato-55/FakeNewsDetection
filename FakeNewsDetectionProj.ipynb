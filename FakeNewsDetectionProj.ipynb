{
  "nbformat": 4,
  "nbformat_minor": 0,
  "metadata": {
    "colab": {
      "name": "FakeNewsDetectionProj.ipynb",
      "provenance": [],
      "authorship_tag": "ABX9TyOjIyuIu3WGOnd293m+Neou",
      "include_colab_link": true
    },
    "kernelspec": {
      "name": "python3",
      "display_name": "Python 3"
    },
    "language_info": {
      "name": "python"
    }
  },
  "cells": [
    {
      "cell_type": "markdown",
      "metadata": {
        "id": "view-in-github",
        "colab_type": "text"
      },
      "source": [
        "<a href=\"https://colab.research.google.com/github/Renato-55/FakeNewsDetection/blob/main/FakeNewsDetectionProj.ipynb\" target=\"_parent\"><img src=\"https://colab.research.google.com/assets/colab-badge.svg\" alt=\"Open In Colab\"/></a>"
      ]
    },
    {
      "cell_type": "code",
      "source": [
        "!touch ~/.kaggle/kaggle.json"
      ],
      "metadata": {
        "id": "0eCGB_JZz0Fn"
      },
      "execution_count": 18,
      "outputs": []
    },
    {
      "cell_type": "code",
      "source": [
        "!chmod 600 /root/.kaggle/kaggle.json"
      ],
      "metadata": {
        "id": "9tHf_6oN0eHD"
      },
      "execution_count": 20,
      "outputs": []
    },
    {
      "cell_type": "code",
      "source": [
        "!echo '{\"username\":\"renatobarbosa0707\",\"key\":\"688080334f032395f65abb05549c245c\"}' > ~/.kaggle/kaggle.json"
      ],
      "metadata": {
        "id": "GTlZieIX06X-"
      },
      "execution_count": 22,
      "outputs": []
    },
    {
      "cell_type": "code",
      "source": [
        "!kaggle competitions download fake-news"
      ],
      "metadata": {
        "id": "c0A-XOay0eQS"
      },
      "execution_count": null,
      "outputs": []
    },
    {
      "cell_type": "code",
      "source": [
        "!unzip \"/content/fake-news.zip\" -d \"/content/FakeNewsDetection/fake-news\""
      ],
      "metadata": {
        "id": "QjZOy7h61HEP"
      },
      "execution_count": null,
      "outputs": []
    },
    {
      "cell_type": "code",
      "source": [
        "import numpy as np\n",
        "import pandas as pd\n",
        "import seaborn as sns\n",
        "import matplotlib.pyplot as plt\n",
        "import tensorflow as tf\n",
        "\n",
        "#path to data\n",
        "path = \"/content/FakeNewsDetection/fake-news/\"\n",
        "\n",
        "#Load Data\n",
        "train_data = pd.read_csv(path + \"train.csv\")\n",
        "eval_data_x = pd.read_csv(path + \"test.csv\")\n",
        "eval_data_y = pd.read_csv(path + \"submit.csv\")"
      ],
      "metadata": {
        "id": "AgjGU_k4yPvP"
      },
      "execution_count": 31,
      "outputs": []
    },
    {
      "cell_type": "code",
      "source": [
        "#data cleaning\n",
        "null_val = train_data.isnull().sum().sum()\n",
        "\n",
        "if null_val == 0:\n",
        "  print(\"No null values\\n\")\n",
        "else:\n",
        "  print(f\"Null values: {null_val}\\n\")\n",
        "\n",
        "null_val_tables = train_data.isnull().sum()\n",
        "\n",
        "for x in train_data:\n",
        "  null_values_table = train_data[x].isnull().sum()\n",
        "  print(f\"The table {x} has {null_values_table}\")"
      ],
      "metadata": {
        "colab": {
          "base_uri": "https://localhost:8080/"
        },
        "id": "jRcTKbkk2j23",
        "outputId": "917c3efa-e2e3-4410-881b-6d668b574a87"
      },
      "execution_count": 38,
      "outputs": [
        {
          "output_type": "stream",
          "name": "stdout",
          "text": [
            "Null values: 2554\n",
            "\n",
            "The table id has 0\n",
            "The table title has 558\n",
            "The table author has 1957\n",
            "The table text has 39\n",
            "The table label has 0\n"
          ]
        }
      ]
    }
  ]
}