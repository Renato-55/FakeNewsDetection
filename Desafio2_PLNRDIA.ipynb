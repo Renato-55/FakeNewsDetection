{
  "nbformat": 4,
  "nbformat_minor": 0,
  "metadata": {
    "colab": {
      "provenance": [],
      "authorship_tag": "ABX9TyM6Ok7k6rZDA5w8t528alBL",
      "include_colab_link": true
    },
    "kernelspec": {
      "name": "python3",
      "display_name": "Python 3"
    },
    "language_info": {
      "name": "python"
    }
  },
  "cells": [
    {
      "cell_type": "markdown",
      "metadata": {
        "id": "view-in-github",
        "colab_type": "text"
      },
      "source": [
        "<a href=\"https://colab.research.google.com/github/Renato-55/FakeNewsDetection/blob/main/Desafio2_PLNRDIA.ipynb\" target=\"_parent\"><img src=\"https://colab.research.google.com/assets/colab-badge.svg\" alt=\"Open In Colab\"/></a>"
      ]
    },
    {
      "cell_type": "markdown",
      "source": [
        "1.   Imports\n"
      ],
      "metadata": {
        "id": "xzhOPNNulwx9"
      }
    },
    {
      "cell_type": "code",
      "execution_count": 1,
      "metadata": {
        "id": "jdxDv89KGxIo"
      },
      "outputs": [],
      "source": [
        "# Import\n",
        "import numpy as np\n",
        "import pandas as pd\n",
        "import seaborn as sns\n",
        "import matplotlib.pyplot as plt"
      ]
    },
    {
      "cell_type": "markdown",
      "source": [
        "2.   Load data\n",
        "\n"
      ],
      "metadata": {
        "id": "R08obmBcl0ho"
      }
    },
    {
      "cell_type": "code",
      "source": [
        "filename = \"/content/WA_Fn-UseC_-HR-Employee-Attrition.csv\"\n",
        "data = pd.read_csv(filename)\n",
        "\n",
        "print(\"Data contains \", data.shape[0],\" rows and \", data.shape[1],\" columns\\n\")\n",
        "data.head()"
      ],
      "metadata": {
        "id": "-DgQA6lol5tN"
      },
      "execution_count": null,
      "outputs": []
    },
    {
      "cell_type": "markdown",
      "source": [
        "3. Data analysis  "
      ],
      "metadata": {
        "id": "SHPK4T7fmyOZ"
      }
    },
    {
      "cell_type": "code",
      "source": [
        "# Counts nulls values across the dataset\n",
        "print(\"Dataset contains null values : \", data.isnull().sum().sum())"
      ],
      "metadata": {
        "id": "6E1NujttmxYy",
        "outputId": "efbe22fd-8ca5-4002-cbf5-94f2089ac98d",
        "colab": {
          "base_uri": "https://localhost:8080/"
        }
      },
      "execution_count": 14,
      "outputs": [
        {
          "output_type": "stream",
          "name": "stdout",
          "text": [
            "Dataset contains null values :  0\n"
          ]
        }
      ]
    }
  ]
}